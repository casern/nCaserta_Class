{
 "cells": [
  {
   "cell_type": "code",
   "execution_count": 5,
   "id": "coated-movie",
   "metadata": {},
   "outputs": [],
   "source": [
    "import pandas as pd\n",
    "import numpy as np\n",
    "import datetime\n",
    "import plotly.express as px\n",
    "from datetime import date\n",
    "import dash\n",
    "from jupyter_dash import JupyterDash\n",
    "import dash_core_components as dcc\n",
    "import dash_html_components as html\n",
    "from dash.dependencies import Input, Output\n"
   ]
  },
  {
   "cell_type": "code",
   "execution_count": 6,
   "id": "cardiac-election",
   "metadata": {},
   "outputs": [],
   "source": [
    "# Load Data\n",
    "\n",
    "# Build App\n",
    "app = JupyterDash(__name__)"
   ]
  },
  {
   "cell_type": "code",
   "execution_count": null,
   "id": "native-sister",
   "metadata": {},
   "outputs": [],
   "source": []
  },
  {
   "cell_type": "code",
   "execution_count": 7,
   "id": "little-capacity",
   "metadata": {
    "tags": []
   },
   "outputs": [
    {
     "data": {
      "text/plain": [
       "OBJECTID               int64\n",
       "SRRecordID            object\n",
       "ServiceRequestNum     object\n",
       "SRType                object\n",
       "MethodReceived        object\n",
       "CreatedDate           object\n",
       "SRStatus              object\n",
       "StatusDate            object\n",
       "DueDate               object\n",
       "CloseDate             object\n",
       "Agency                object\n",
       "LastActivity          object\n",
       "LastActivityDate      object\n",
       "Outcome               object\n",
       "Address               object\n",
       "ZipCode               object\n",
       "Neighborhood          object\n",
       "CouncilDistrict      float64\n",
       "PoliceDistrict        object\n",
       "PolicePost           float64\n",
       "Latitude             float64\n",
       "Longitude            float64\n",
       "GeoLocation           object\n",
       "dtype: object"
      ]
     },
     "execution_count": 7,
     "metadata": {},
     "output_type": "execute_result"
    }
   ],
   "source": [
    "df = pd.read_csv('311_Customer_Service_Requests_2020_Illegal_Dumping.csv')\n",
    "df = df.dtypes\n",
    "df"
   ]
  },
  {
   "cell_type": "code",
   "execution_count": null,
   "id": "focal-benchmark",
   "metadata": {},
   "outputs": [],
   "source": []
  },
  {
   "cell_type": "code",
   "execution_count": 9,
   "id": "competent-expert",
   "metadata": {},
   "outputs": [],
   "source": [
    "#datatypes = df.dtypes[\"SRStatus\"]\n",
    "#datatypes"
   ]
  },
  {
   "cell_type": "code",
   "execution_count": 10,
   "id": "seasonal-testimony",
   "metadata": {},
   "outputs": [],
   "source": [
    "del df[\"PolicePost\"]"
   ]
  },
  {
   "cell_type": "code",
   "execution_count": 11,
   "id": "floppy-redhead",
   "metadata": {},
   "outputs": [
    {
     "ename": "AttributeError",
     "evalue": "'Series' object has no attribute 'columns'",
     "output_type": "error",
     "traceback": [
      "\u001b[1;31m---------------------------------------------------------------------------\u001b[0m",
      "\u001b[1;31mAttributeError\u001b[0m                            Traceback (most recent call last)",
      "\u001b[1;32m<ipython-input-11-b666bf274d0a>\u001b[0m in \u001b[0;36m<module>\u001b[1;34m\u001b[0m\n\u001b[1;32m----> 1\u001b[1;33m \u001b[0mdf\u001b[0m\u001b[1;33m.\u001b[0m\u001b[0mcolumns\u001b[0m\u001b[1;33m\u001b[0m\u001b[1;33m\u001b[0m\u001b[0m\n\u001b[0m",
      "\u001b[1;32mc:\\users\\nrcas\\desktop\\jlab project 1\\env\\lib\\site-packages\\pandas\\core\\generic.py\u001b[0m in \u001b[0;36m__getattr__\u001b[1;34m(self, name)\u001b[0m\n\u001b[0;32m   5463\u001b[0m             \u001b[1;32mif\u001b[0m \u001b[0mself\u001b[0m\u001b[1;33m.\u001b[0m\u001b[0m_info_axis\u001b[0m\u001b[1;33m.\u001b[0m\u001b[0m_can_hold_identifiers_and_holds_name\u001b[0m\u001b[1;33m(\u001b[0m\u001b[0mname\u001b[0m\u001b[1;33m)\u001b[0m\u001b[1;33m:\u001b[0m\u001b[1;33m\u001b[0m\u001b[1;33m\u001b[0m\u001b[0m\n\u001b[0;32m   5464\u001b[0m                 \u001b[1;32mreturn\u001b[0m \u001b[0mself\u001b[0m\u001b[1;33m[\u001b[0m\u001b[0mname\u001b[0m\u001b[1;33m]\u001b[0m\u001b[1;33m\u001b[0m\u001b[1;33m\u001b[0m\u001b[0m\n\u001b[1;32m-> 5465\u001b[1;33m             \u001b[1;32mreturn\u001b[0m \u001b[0mobject\u001b[0m\u001b[1;33m.\u001b[0m\u001b[0m__getattribute__\u001b[0m\u001b[1;33m(\u001b[0m\u001b[0mself\u001b[0m\u001b[1;33m,\u001b[0m \u001b[0mname\u001b[0m\u001b[1;33m)\u001b[0m\u001b[1;33m\u001b[0m\u001b[1;33m\u001b[0m\u001b[0m\n\u001b[0m\u001b[0;32m   5466\u001b[0m \u001b[1;33m\u001b[0m\u001b[0m\n\u001b[0;32m   5467\u001b[0m     \u001b[1;32mdef\u001b[0m \u001b[0m__setattr__\u001b[0m\u001b[1;33m(\u001b[0m\u001b[0mself\u001b[0m\u001b[1;33m,\u001b[0m \u001b[0mname\u001b[0m\u001b[1;33m:\u001b[0m \u001b[0mstr\u001b[0m\u001b[1;33m,\u001b[0m \u001b[0mvalue\u001b[0m\u001b[1;33m)\u001b[0m \u001b[1;33m->\u001b[0m \u001b[1;32mNone\u001b[0m\u001b[1;33m:\u001b[0m\u001b[1;33m\u001b[0m\u001b[1;33m\u001b[0m\u001b[0m\n",
      "\u001b[1;31mAttributeError\u001b[0m: 'Series' object has no attribute 'columns'"
     ]
    }
   ],
   "source": [
    "df.columns"
   ]
  },
  {
   "cell_type": "code",
   "execution_count": null,
   "id": "joint-article",
   "metadata": {},
   "outputs": [],
   "source": [
    "df.duplicated([\"OBJECTID\"])"
   ]
  },
  {
   "cell_type": "code",
   "execution_count": null,
   "id": "oriented-force",
   "metadata": {},
   "outputs": [],
   "source": [
    "#df = df.drop(columns=[\"PolicePost\"])"
   ]
  },
  {
   "cell_type": "code",
   "execution_count": null,
   "id": "brown-uganda",
   "metadata": {},
   "outputs": [],
   "source": [
    "df.shape"
   ]
  },
  {
   "cell_type": "code",
   "execution_count": null,
   "id": "surgical-wellington",
   "metadata": {
    "tags": []
   },
   "outputs": [],
   "source": [
    "df.head()"
   ]
  },
  {
   "cell_type": "code",
   "execution_count": null,
   "id": "duplicate-collins",
   "metadata": {},
   "outputs": [],
   "source": [
    "df.shape"
   ]
  },
  {
   "cell_type": "code",
   "execution_count": null,
   "id": "about-soundtrack",
   "metadata": {},
   "outputs": [],
   "source": [
    "df.info()"
   ]
  },
  {
   "cell_type": "code",
   "execution_count": null,
   "id": "funky-despite",
   "metadata": {},
   "outputs": [],
   "source": [
    "df[\"CreatedDate\"] = pd.to_datetime(df[\"CreatedDate\"])"
   ]
  },
  {
   "cell_type": "code",
   "execution_count": null,
   "id": "faced-arbor",
   "metadata": {},
   "outputs": [],
   "source": [
    "df[\"CreatedDate\"].dtypes"
   ]
  },
  {
   "cell_type": "code",
   "execution_count": null,
   "id": "adjusted-conditions",
   "metadata": {},
   "outputs": [],
   "source": [
    "df[\"CreatedDate\"].dt.date"
   ]
  },
  {
   "cell_type": "code",
   "execution_count": null,
   "id": "subjective-behavior",
   "metadata": {},
   "outputs": [],
   "source": []
  },
  {
   "cell_type": "code",
   "execution_count": null,
   "id": "revolutionary-figure",
   "metadata": {},
   "outputs": [],
   "source": [
    "df[\"CD_Date\"] = df[\"CreatedDate\"].dt.date"
   ]
  },
  {
   "cell_type": "code",
   "execution_count": null,
   "id": "optional-doctrine",
   "metadata": {},
   "outputs": [],
   "source": [
    "df"
   ]
  },
  {
   "cell_type": "code",
   "execution_count": null,
   "id": "helpful-sussex",
   "metadata": {},
   "outputs": [],
   "source": [
    "df[\"CloseDate\"].dtypes"
   ]
  },
  {
   "cell_type": "code",
   "execution_count": null,
   "id": "lovely-haven",
   "metadata": {},
   "outputs": [],
   "source": [
    "df[\"CreatedDate\"].dtypes"
   ]
  },
  {
   "cell_type": "code",
   "execution_count": null,
   "id": "facial-gateway",
   "metadata": {},
   "outputs": [],
   "source": [
    "df[\"CD_Date\"].dtypes"
   ]
  },
  {
   "cell_type": "code",
   "execution_count": null,
   "id": "speaking-destruction",
   "metadata": {},
   "outputs": [],
   "source": []
  },
  {
   "cell_type": "code",
   "execution_count": null,
   "id": "senior-employer",
   "metadata": {},
   "outputs": [],
   "source": [
    "df[\"CloseDate\"] = pd.to_datetime(df[\"CloseDate\"],utc=True)"
   ]
  },
  {
   "cell_type": "code",
   "execution_count": null,
   "id": "handled-bronze",
   "metadata": {},
   "outputs": [],
   "source": []
  },
  {
   "cell_type": "code",
   "execution_count": null,
   "id": "fifteen-logan",
   "metadata": {},
   "outputs": [],
   "source": [
    "df[\"CloseDate\"].dtypes"
   ]
  },
  {
   "cell_type": "code",
   "execution_count": null,
   "id": "hazardous-vault",
   "metadata": {},
   "outputs": [],
   "source": []
  },
  {
   "cell_type": "code",
   "execution_count": null,
   "id": "toxic-legislature",
   "metadata": {},
   "outputs": [],
   "source": [
    "df[\"CloseDate\"].dt.date"
   ]
  },
  {
   "cell_type": "code",
   "execution_count": null,
   "id": "ordinary-springer",
   "metadata": {},
   "outputs": [],
   "source": []
  },
  {
   "cell_type": "code",
   "execution_count": null,
   "id": "organizational-tulsa",
   "metadata": {},
   "outputs": [],
   "source": [
    "df[\"CLOSED_Date\"] = df[\"CloseDate\"].dt.date"
   ]
  },
  {
   "cell_type": "code",
   "execution_count": null,
   "id": "proprietary-saturday",
   "metadata": {},
   "outputs": [],
   "source": [
    "df.head()"
   ]
  },
  {
   "cell_type": "code",
   "execution_count": null,
   "id": "disabled-tower",
   "metadata": {},
   "outputs": [],
   "source": [
    "df.info()"
   ]
  },
  {
   "cell_type": "code",
   "execution_count": null,
   "id": "fixed-finance",
   "metadata": {},
   "outputs": [],
   "source": [
    "df[\"CLOSED_Date\"]=pd.to_datetime(\n",
    "    df[\"CLOSED_Date\"],utc=True)"
   ]
  },
  {
   "cell_type": "code",
   "execution_count": null,
   "id": "adverse-cologne",
   "metadata": {},
   "outputs": [],
   "source": [
    "df[\"CD_Date\"] = pd.to_datetime(df[\"CD_Date\"],utc=True)"
   ]
  },
  {
   "cell_type": "code",
   "execution_count": null,
   "id": "numeric-pollution",
   "metadata": {},
   "outputs": [],
   "source": [
    "df[\"Days_Active\"] = df[\"CloseDate\"] - df[\"CD_Date\"]"
   ]
  },
  {
   "cell_type": "code",
   "execution_count": null,
   "id": "guilty-briefs",
   "metadata": {},
   "outputs": [],
   "source": [
    "df.Days_Active.head()"
   ]
  },
  {
   "cell_type": "code",
   "execution_count": null,
   "id": "golden-victorian",
   "metadata": {},
   "outputs": [],
   "source": [
    "df[\"Days_Active\"] = df[\"Days_Active\"] / np.timedelta64(1,'D')"
   ]
  },
  {
   "cell_type": "code",
   "execution_count": null,
   "id": "laden-gibraltar",
   "metadata": {},
   "outputs": [],
   "source": [
    "df.Days_Active.head()"
   ]
  },
  {
   "cell_type": "code",
   "execution_count": null,
   "id": "frank-directory",
   "metadata": {},
   "outputs": [],
   "source": [
    "df[df.Days_Active.isna()]"
   ]
  },
  {
   "cell_type": "code",
   "execution_count": null,
   "id": "tough-console",
   "metadata": {},
   "outputs": [],
   "source": [
    "#df.dropna(how = \"any\", subset = [\"CloseDate\", \"Days_Active\"]).shape"
   ]
  },
  {
   "cell_type": "code",
   "execution_count": null,
   "id": "illegal-roman",
   "metadata": {},
   "outputs": [],
   "source": [
    "df = df.dropna()"
   ]
  },
  {
   "cell_type": "code",
   "execution_count": null,
   "id": "synthetic-circular",
   "metadata": {},
   "outputs": [],
   "source": [
    "df.shape"
   ]
  },
  {
   "cell_type": "code",
   "execution_count": null,
   "id": "essential-awareness",
   "metadata": {},
   "outputs": [],
   "source": [
    "df[df.Days_Active.isna()]"
   ]
  },
  {
   "cell_type": "code",
   "execution_count": null,
   "id": "blank-humor",
   "metadata": {},
   "outputs": [],
   "source": [
    "df.info()"
   ]
  },
  {
   "cell_type": "code",
   "execution_count": null,
   "id": "recorded-telephone",
   "metadata": {},
   "outputs": [],
   "source": [
    "#There is a drop method on .isna() that helps to get rid of the 2 null values\n",
    "#you have to run from the initial point of importing the data down to update it fully\n",
    "#"
   ]
  },
  {
   "cell_type": "code",
   "execution_count": null,
   "id": "listed-study",
   "metadata": {},
   "outputs": [],
   "source": []
  },
  {
   "cell_type": "code",
   "execution_count": null,
   "id": "aggressive-paint",
   "metadata": {},
   "outputs": [],
   "source": [
    "#start_date = \"2020-9-14\"\n",
    "#end_date = \"2020-12-03\"\n",
    "\n",
    "#daterange = (df[\"CD_Date\"]) > start_date & (df[\"CD_Date\"] <= end_date)\n"
   ]
  },
  {
   "cell_type": "code",
   "execution_count": null,
   "id": "simplified-portfolio",
   "metadata": {},
   "outputs": [],
   "source": [
    "#df = df.loc[daterange]\n",
    "#df"
   ]
  },
  {
   "cell_type": "code",
   "execution_count": null,
   "id": "forced-columbus",
   "metadata": {},
   "outputs": [],
   "source": [
    "daterange.shape"
   ]
  },
  {
   "cell_type": "code",
   "execution_count": null,
   "id": "informational-comparative",
   "metadata": {},
   "outputs": [],
   "source": []
  },
  {
   "cell_type": "code",
   "execution_count": null,
   "id": "alike-newark",
   "metadata": {},
   "outputs": [],
   "source": [
    "#df = pd.read_csv('311_Customer_Service_Requests_2020_Illegal_Dumping.csv')\n",
    "fig = px.scatter_mapbox(dff, lat=\"Latitude\", lon=\"Longitude\", color=\"Days_Active\", size=\"Days_Active\",\n",
    "                  color_continuous_scale=px.colors.cyclical.Twilight, size_max=15, zoom=10,\n",
    "                  mapbox_style=\"carto-positron\")\n",
    "fig.show()"
   ]
  },
  {
   "cell_type": "code",
   "execution_count": null,
   "id": "driven-float",
   "metadata": {},
   "outputs": [],
   "source": []
  },
  {
   "cell_type": "code",
   "execution_count": null,
   "id": "minute-jacob",
   "metadata": {},
   "outputs": [],
   "source": [
    "daterange = df[(df['CD_Date'] > '2020-9-10') & (df['CD_Date'] <= '2020-11-03')]"
   ]
  },
  {
   "cell_type": "code",
   "execution_count": null,
   "id": "younger-breakdown",
   "metadata": {},
   "outputs": [],
   "source": [
    "app.layout = html.Div([\n",
    "    html.H1(\"JupyterDash Demo\"),\n",
    "    dcc.Graph(id='graph'),\n",
    "    html.Label([\n",
    "        \"colorscale\",\n",
    "        dcc.Dropdown(\n",
    "            id='colorscale-dropdown', clearable=False,\n",
    "            value='plasma', options=[\n",
    "                {'label': c, 'value': c}\n",
    "                for c in px.colors.named_colorscales()\n",
    "            ])\n",
    "    ]),\n",
    "])\n",
    "# Define callback to update graph\n",
    "@app.callback(\n",
    "    Output('graph', 'figure'),\n",
    "    [Input(\"colorscale-dropdown\", \"value\")]\n",
    ")\n",
    "def update_figure(colorscale):\n",
    "    return px.scatter(\n",
    "        df, x=\"total_bill\", y=\"tip\", color=\"size\",\n",
    "        color_continuous_scale=colorscale,\n",
    "        render_mode=\"webgl\", title=\"Tips\"\n",
    "    )\n",
    "# Run app and display result inline in the notebook\n",
    "app.run_server(mode='inline', port=8052)"
   ]
  },
  {
   "cell_type": "code",
   "execution_count": null,
   "id": "romantic-mongolia",
   "metadata": {},
   "outputs": [],
   "source": []
  },
  {
   "cell_type": "code",
   "execution_count": null,
   "id": "promising-wesley",
   "metadata": {},
   "outputs": [],
   "source": []
  },
  {
   "cell_type": "code",
   "execution_count": null,
   "id": "invisible-handling",
   "metadata": {},
   "outputs": [],
   "source": []
  }
 ],
 "metadata": {
  "kernelspec": {
   "display_name": "Python 3",
   "language": "python",
   "name": "python3"
  },
  "language_info": {
   "codemirror_mode": {
    "name": "ipython",
    "version": 3
   },
   "file_extension": ".py",
   "mimetype": "text/x-python",
   "name": "python",
   "nbconvert_exporter": "python",
   "pygments_lexer": "ipython3",
   "version": "3.8.6"
  }
 },
 "nbformat": 4,
 "nbformat_minor": 5
}
